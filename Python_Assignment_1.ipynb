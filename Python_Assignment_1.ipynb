{
 "cells": [
  {
   "cell_type": "code",
   "execution_count": 45,
   "metadata": {
    "collapsed": true
   },
   "outputs": [],
   "source": [
    "string1=\"It was love at first sight.\"\n",
    "string2=\"In my younger and more vulnerable years my father gave me some advice that I've been turning over in my mind ever since.\"\n",
    "string3=\"I was born in the Year 1632, in the City of York, of a good Family, tho' not of that Country, my Father being a Foreigner of Bremen, who settled first at Hull; He got a good Estate by Merchandise, and leaving off his Trade, lived afterward at York, from whence he had married my Mother, whose Relations were named Robinson, a very good Family in that Country, and from whom I was called Robinson Kreutznaer; but by the usual Corruption of Words in England, we are now called, nay we call our selves, and write our Name Crusoe, and so my Companions always call'd me.\""
   ]
  },
  {
   "cell_type": "code",
   "execution_count": 46,
   "metadata": {
    "collapsed": true
   },
   "outputs": [],
   "source": [
    "#this function splits the words and removes the punctuations using the split and spring built in method\n",
    "def split_and_strip(str1):\n",
    "    str1=str1.split()\n",
    "    for i in range(len(str1)):\n",
    "        str1[i] = str1[i].strip(\".,;\")\n",
    "    return str1"
   ]
  },
  {
   "cell_type": "markdown",
   "metadata": {},
   "source": [
    "Exercise 1"
   ]
  },
  {
   "cell_type": "code",
   "execution_count": 47,
   "metadata": {
    "collapsed": true
   },
   "outputs": [],
   "source": [
    "#this function cleans the code by calling the function split_and_strip and sorts the string in descending order\n",
    "def exercise_1(str1):\n",
    "    str2=split_and_strip(str1)\n",
    "    str2.sort(key=len)\n",
    "    str2.reverse()\n",
    "    return str2"
   ]
  },
  {
   "cell_type": "markdown",
   "metadata": {},
   "source": [
    "#1a"
   ]
  },
  {
   "cell_type": "code",
   "execution_count": 48,
   "metadata": {},
   "outputs": [
    {
     "data": {
      "text/plain": [
       "['sight', 'first', 'love', 'was', 'at', 'It']"
      ]
     },
     "execution_count": 48,
     "metadata": {},
     "output_type": "execute_result"
    }
   ],
   "source": [
    "exercise_1(string1)"
   ]
  },
  {
   "cell_type": "markdown",
   "metadata": {},
   "source": [
    "#1b"
   ]
  },
  {
   "cell_type": "code",
   "execution_count": 50,
   "metadata": {},
   "outputs": [
    {
     "data": {
      "text/plain": [
       "['vulnerable',\n",
       " 'turning',\n",
       " 'younger',\n",
       " 'advice',\n",
       " 'father',\n",
       " 'since',\n",
       " 'years',\n",
       " 'ever',\n",
       " 'mind',\n",
       " 'over',\n",
       " 'been',\n",
       " \"I've\",\n",
       " 'that',\n",
       " 'some',\n",
       " 'gave',\n",
       " 'more',\n",
       " 'and',\n",
       " 'my',\n",
       " 'in',\n",
       " 'me',\n",
       " 'my',\n",
       " 'my',\n",
       " 'In']"
      ]
     },
     "execution_count": 50,
     "metadata": {},
     "output_type": "execute_result"
    }
   ],
   "source": [
    "exercise_1(string2)"
   ]
  },
  {
   "cell_type": "markdown",
   "metadata": {},
   "source": [
    "#1c"
   ]
  },
  {
   "cell_type": "code",
   "execution_count": 51,
   "metadata": {},
   "outputs": [
    {
     "data": {
      "text/plain": [
       "['Merchandise',\n",
       " 'Companions',\n",
       " 'Corruption',\n",
       " 'Kreutznaer',\n",
       " 'Relations',\n",
       " 'afterward',\n",
       " 'Foreigner',\n",
       " 'Robinson',\n",
       " 'Robinson',\n",
       " 'England',\n",
       " 'Country',\n",
       " 'married',\n",
       " 'leaving',\n",
       " 'settled',\n",
       " 'Country',\n",
       " \"call'd\",\n",
       " 'always',\n",
       " 'Crusoe',\n",
       " 'selves',\n",
       " 'called',\n",
       " 'called',\n",
       " 'Family',\n",
       " 'Mother',\n",
       " 'whence',\n",
       " 'Estate',\n",
       " 'Bremen',\n",
       " 'Father',\n",
       " 'Family',\n",
       " 'write',\n",
       " 'Words',\n",
       " 'usual',\n",
       " 'named',\n",
       " 'whose',\n",
       " 'lived',\n",
       " 'Trade',\n",
       " 'first',\n",
       " 'being',\n",
       " 'Name',\n",
       " 'call',\n",
       " 'whom',\n",
       " 'from',\n",
       " 'that',\n",
       " 'good',\n",
       " 'very',\n",
       " 'were',\n",
       " 'from',\n",
       " 'York',\n",
       " 'good',\n",
       " 'Hull',\n",
       " 'that',\n",
       " \"tho'\",\n",
       " 'good',\n",
       " 'York',\n",
       " 'City',\n",
       " '1632',\n",
       " 'Year',\n",
       " 'born',\n",
       " 'and',\n",
       " 'our',\n",
       " 'and',\n",
       " 'our',\n",
       " 'nay',\n",
       " 'now',\n",
       " 'are',\n",
       " 'the',\n",
       " 'but',\n",
       " 'was',\n",
       " 'and',\n",
       " 'had',\n",
       " 'his',\n",
       " 'off',\n",
       " 'and',\n",
       " 'got',\n",
       " 'who',\n",
       " 'not',\n",
       " 'the',\n",
       " 'the',\n",
       " 'was',\n",
       " 'me',\n",
       " 'my',\n",
       " 'so',\n",
       " 'we',\n",
       " 'we',\n",
       " 'in',\n",
       " 'of',\n",
       " 'by',\n",
       " 'in',\n",
       " 'my',\n",
       " 'he',\n",
       " 'at',\n",
       " 'by',\n",
       " 'He',\n",
       " 'at',\n",
       " 'of',\n",
       " 'my',\n",
       " 'of',\n",
       " 'of',\n",
       " 'of',\n",
       " 'in',\n",
       " 'in',\n",
       " 'I',\n",
       " 'a',\n",
       " 'a',\n",
       " 'a',\n",
       " 'a',\n",
       " 'I']"
      ]
     },
     "execution_count": 51,
     "metadata": {},
     "output_type": "execute_result"
    }
   ],
   "source": [
    "exercise_1(string3)"
   ]
  },
  {
   "cell_type": "markdown",
   "metadata": {},
   "source": [
    "#Exercise 2"
   ]
  },
  {
   "cell_type": "markdown",
   "metadata": {},
   "source": [
    "#2a"
   ]
  },
  {
   "cell_type": "code",
   "execution_count": 52,
   "metadata": {
    "collapsed": true
   },
   "outputs": [],
   "source": [
    "#this function maps a list of words into a list of integers representing the lengths of the corresponding words using map function. \n",
    "def exercise_2a(str1):\n",
    "    str2=split_and_strip(str1)\n",
    "    str3=list(map(len,str2))\n",
    "    return str(str3)"
   ]
  },
  {
   "cell_type": "markdown",
   "metadata": {},
   "source": [
    "#2a using string1"
   ]
  },
  {
   "cell_type": "code",
   "execution_count": 53,
   "metadata": {},
   "outputs": [
    {
     "data": {
      "text/plain": [
       "'[2, 3, 4, 2, 5, 5]'"
      ]
     },
     "execution_count": 53,
     "metadata": {},
     "output_type": "execute_result"
    }
   ],
   "source": [
    "exercise_2a(string1)"
   ]
  },
  {
   "cell_type": "markdown",
   "metadata": {},
   "source": [
    "#2a using string2"
   ]
  },
  {
   "cell_type": "code",
   "execution_count": 54,
   "metadata": {},
   "outputs": [
    {
     "data": {
      "text/plain": [
       "'[2, 2, 7, 3, 4, 10, 5, 2, 6, 4, 2, 4, 6, 4, 4, 4, 7, 4, 2, 2, 4, 4, 5]'"
      ]
     },
     "execution_count": 54,
     "metadata": {},
     "output_type": "execute_result"
    }
   ],
   "source": [
    "exercise_2a(string2)"
   ]
  },
  {
   "cell_type": "markdown",
   "metadata": {},
   "source": [
    "#2a using string3"
   ]
  },
  {
   "cell_type": "code",
   "execution_count": 55,
   "metadata": {},
   "outputs": [
    {
     "data": {
      "text/plain": [
       "'[1, 3, 4, 2, 3, 4, 4, 2, 3, 4, 2, 4, 2, 1, 4, 6, 4, 3, 2, 4, 7, 2, 6, 5, 1, 9, 2, 6, 3, 7, 5, 2, 4, 2, 3, 1, 4, 6, 2, 11, 3, 7, 3, 3, 5, 5, 9, 2, 4, 4, 6, 2, 3, 7, 2, 6, 5, 9, 4, 5, 8, 1, 4, 4, 6, 2, 4, 7, 3, 4, 4, 1, 3, 6, 8, 10, 3, 2, 3, 5, 10, 2, 5, 2, 7, 2, 3, 3, 6, 3, 2, 4, 3, 6, 3, 5, 3, 4, 6, 3, 2, 2, 10, 6, 6, 2]'"
      ]
     },
     "execution_count": 55,
     "metadata": {},
     "output_type": "execute_result"
    }
   ],
   "source": [
    "exercise_2a(string3)"
   ]
  },
  {
   "cell_type": "markdown",
   "metadata": {},
   "source": [
    "#2b"
   ]
  },
  {
   "cell_type": "code",
   "execution_count": 56,
   "metadata": {
    "collapsed": true
   },
   "outputs": [],
   "source": [
    "#this function maps a list of words into a list of integers representing the lengths of the corresponding words using a for loop.\n",
    "def exercise_2b(str1):\n",
    "    str3 = []\n",
    "    str2=split_and_strip(str1)\n",
    "    for i in range(0, (len(str2)-1)):\n",
    "        str3.append(len(str2[i]))\n",
    "    return str3"
   ]
  },
  {
   "cell_type": "markdown",
   "metadata": {},
   "source": [
    "#2b using string1"
   ]
  },
  {
   "cell_type": "code",
   "execution_count": 57,
   "metadata": {},
   "outputs": [
    {
     "data": {
      "text/plain": [
       "[2, 3, 4, 2, 5]"
      ]
     },
     "execution_count": 57,
     "metadata": {},
     "output_type": "execute_result"
    }
   ],
   "source": [
    "exercise_2b(string1)"
   ]
  },
  {
   "cell_type": "markdown",
   "metadata": {},
   "source": [
    "#2b using string2"
   ]
  },
  {
   "cell_type": "code",
   "execution_count": 58,
   "metadata": {},
   "outputs": [
    {
     "data": {
      "text/plain": [
       "[2, 2, 7, 3, 4, 10, 5, 2, 6, 4, 2, 4, 6, 4, 4, 4, 7, 4, 2, 2, 4, 4]"
      ]
     },
     "execution_count": 58,
     "metadata": {},
     "output_type": "execute_result"
    }
   ],
   "source": [
    "exercise_2b(string2)"
   ]
  },
  {
   "cell_type": "markdown",
   "metadata": {},
   "source": [
    "#2b using string3"
   ]
  },
  {
   "cell_type": "code",
   "execution_count": 59,
   "metadata": {},
   "outputs": [
    {
     "data": {
      "text/plain": [
       "[1,\n",
       " 3,\n",
       " 4,\n",
       " 2,\n",
       " 3,\n",
       " 4,\n",
       " 4,\n",
       " 2,\n",
       " 3,\n",
       " 4,\n",
       " 2,\n",
       " 4,\n",
       " 2,\n",
       " 1,\n",
       " 4,\n",
       " 6,\n",
       " 4,\n",
       " 3,\n",
       " 2,\n",
       " 4,\n",
       " 7,\n",
       " 2,\n",
       " 6,\n",
       " 5,\n",
       " 1,\n",
       " 9,\n",
       " 2,\n",
       " 6,\n",
       " 3,\n",
       " 7,\n",
       " 5,\n",
       " 2,\n",
       " 4,\n",
       " 2,\n",
       " 3,\n",
       " 1,\n",
       " 4,\n",
       " 6,\n",
       " 2,\n",
       " 11,\n",
       " 3,\n",
       " 7,\n",
       " 3,\n",
       " 3,\n",
       " 5,\n",
       " 5,\n",
       " 9,\n",
       " 2,\n",
       " 4,\n",
       " 4,\n",
       " 6,\n",
       " 2,\n",
       " 3,\n",
       " 7,\n",
       " 2,\n",
       " 6,\n",
       " 5,\n",
       " 9,\n",
       " 4,\n",
       " 5,\n",
       " 8,\n",
       " 1,\n",
       " 4,\n",
       " 4,\n",
       " 6,\n",
       " 2,\n",
       " 4,\n",
       " 7,\n",
       " 3,\n",
       " 4,\n",
       " 4,\n",
       " 1,\n",
       " 3,\n",
       " 6,\n",
       " 8,\n",
       " 10,\n",
       " 3,\n",
       " 2,\n",
       " 3,\n",
       " 5,\n",
       " 10,\n",
       " 2,\n",
       " 5,\n",
       " 2,\n",
       " 7,\n",
       " 2,\n",
       " 3,\n",
       " 3,\n",
       " 6,\n",
       " 3,\n",
       " 2,\n",
       " 4,\n",
       " 3,\n",
       " 6,\n",
       " 3,\n",
       " 5,\n",
       " 3,\n",
       " 4,\n",
       " 6,\n",
       " 3,\n",
       " 2,\n",
       " 2,\n",
       " 10,\n",
       " 6,\n",
       " 6]"
      ]
     },
     "execution_count": 59,
     "metadata": {},
     "output_type": "execute_result"
    }
   ],
   "source": [
    "exercise_2b(string3)"
   ]
  },
  {
   "cell_type": "markdown",
   "metadata": {},
   "source": [
    "#2c"
   ]
  },
  {
   "cell_type": "code",
   "execution_count": 60,
   "metadata": {
    "collapsed": true
   },
   "outputs": [],
   "source": [
    "#this function maps a list of words into a list of integers representing the lengths of the corresponding words \n",
    "#using a list comprehension.\n",
    "def exercise_2c(str1):  \n",
    "    str2=split_and_strip(str1)\n",
    "    str3=[len(i) for i in str2]\n",
    "    return str3"
   ]
  },
  {
   "cell_type": "markdown",
   "metadata": {},
   "source": [
    "#2c using string1"
   ]
  },
  {
   "cell_type": "code",
   "execution_count": 61,
   "metadata": {},
   "outputs": [
    {
     "data": {
      "text/plain": [
       "[2, 3, 4, 2, 5, 5]"
      ]
     },
     "execution_count": 61,
     "metadata": {},
     "output_type": "execute_result"
    }
   ],
   "source": [
    "exercise_2c(string1)"
   ]
  },
  {
   "cell_type": "markdown",
   "metadata": {},
   "source": [
    "#2c using string2"
   ]
  },
  {
   "cell_type": "code",
   "execution_count": 62,
   "metadata": {},
   "outputs": [
    {
     "data": {
      "text/plain": [
       "[2, 2, 7, 3, 4, 10, 5, 2, 6, 4, 2, 4, 6, 4, 4, 4, 7, 4, 2, 2, 4, 4, 5]"
      ]
     },
     "execution_count": 62,
     "metadata": {},
     "output_type": "execute_result"
    }
   ],
   "source": [
    "exercise_2c(string2)"
   ]
  },
  {
   "cell_type": "markdown",
   "metadata": {},
   "source": [
    "#2c using string3"
   ]
  },
  {
   "cell_type": "code",
   "execution_count": 63,
   "metadata": {},
   "outputs": [
    {
     "data": {
      "text/plain": [
       "[1,\n",
       " 3,\n",
       " 4,\n",
       " 2,\n",
       " 3,\n",
       " 4,\n",
       " 4,\n",
       " 2,\n",
       " 3,\n",
       " 4,\n",
       " 2,\n",
       " 4,\n",
       " 2,\n",
       " 1,\n",
       " 4,\n",
       " 6,\n",
       " 4,\n",
       " 3,\n",
       " 2,\n",
       " 4,\n",
       " 7,\n",
       " 2,\n",
       " 6,\n",
       " 5,\n",
       " 1,\n",
       " 9,\n",
       " 2,\n",
       " 6,\n",
       " 3,\n",
       " 7,\n",
       " 5,\n",
       " 2,\n",
       " 4,\n",
       " 2,\n",
       " 3,\n",
       " 1,\n",
       " 4,\n",
       " 6,\n",
       " 2,\n",
       " 11,\n",
       " 3,\n",
       " 7,\n",
       " 3,\n",
       " 3,\n",
       " 5,\n",
       " 5,\n",
       " 9,\n",
       " 2,\n",
       " 4,\n",
       " 4,\n",
       " 6,\n",
       " 2,\n",
       " 3,\n",
       " 7,\n",
       " 2,\n",
       " 6,\n",
       " 5,\n",
       " 9,\n",
       " 4,\n",
       " 5,\n",
       " 8,\n",
       " 1,\n",
       " 4,\n",
       " 4,\n",
       " 6,\n",
       " 2,\n",
       " 4,\n",
       " 7,\n",
       " 3,\n",
       " 4,\n",
       " 4,\n",
       " 1,\n",
       " 3,\n",
       " 6,\n",
       " 8,\n",
       " 10,\n",
       " 3,\n",
       " 2,\n",
       " 3,\n",
       " 5,\n",
       " 10,\n",
       " 2,\n",
       " 5,\n",
       " 2,\n",
       " 7,\n",
       " 2,\n",
       " 3,\n",
       " 3,\n",
       " 6,\n",
       " 3,\n",
       " 2,\n",
       " 4,\n",
       " 3,\n",
       " 6,\n",
       " 3,\n",
       " 5,\n",
       " 3,\n",
       " 4,\n",
       " 6,\n",
       " 3,\n",
       " 2,\n",
       " 2,\n",
       " 10,\n",
       " 6,\n",
       " 6,\n",
       " 2]"
      ]
     },
     "execution_count": 63,
     "metadata": {},
     "output_type": "execute_result"
    }
   ],
   "source": [
    "exercise_2c(string3)"
   ]
  },
  {
   "cell_type": "markdown",
   "metadata": {},
   "source": [
    "#Execise 3"
   ]
  },
  {
   "cell_type": "code",
   "execution_count": 64,
   "metadata": {
    "collapsed": true
   },
   "outputs": [],
   "source": [
    "#the function make_dict converts the list of words and word lengths from Exercises #1 and #2 into a dictionary, \n",
    "#where the keys are word lengths and the values are lists of the words whose word length equals the key.\n",
    "def make_dict(str1):\n",
    "    str2=split_and_strip(str1)\n",
    "    dic={}\n",
    "    for value in str2:\n",
    "        key = len(value)\n",
    "        if key in dic:\n",
    "            dic[key].append(value)\n",
    "        else:\n",
    "            dic[key]=[value]\n",
    "    return dic"
   ]
  },
  {
   "cell_type": "markdown",
   "metadata": {},
   "source": [
    "#3 using string1"
   ]
  },
  {
   "cell_type": "code",
   "execution_count": 65,
   "metadata": {},
   "outputs": [
    {
     "data": {
      "text/plain": [
       "{2: ['It', 'at'], 3: ['was'], 4: ['love'], 5: ['first', 'sight']}"
      ]
     },
     "execution_count": 65,
     "metadata": {},
     "output_type": "execute_result"
    }
   ],
   "source": [
    "make_dict(string1)"
   ]
  },
  {
   "cell_type": "markdown",
   "metadata": {},
   "source": [
    "#3 using string2"
   ]
  },
  {
   "cell_type": "code",
   "execution_count": 66,
   "metadata": {},
   "outputs": [
    {
     "data": {
      "text/plain": [
       "{2: ['In', 'my', 'my', 'me', 'in', 'my'],\n",
       " 3: ['and'],\n",
       " 4: ['more', 'gave', 'some', 'that', \"I've\", 'been', 'over', 'mind', 'ever'],\n",
       " 5: ['years', 'since'],\n",
       " 6: ['father', 'advice'],\n",
       " 7: ['younger', 'turning'],\n",
       " 10: ['vulnerable']}"
      ]
     },
     "execution_count": 66,
     "metadata": {},
     "output_type": "execute_result"
    }
   ],
   "source": [
    "make_dict(string2)"
   ]
  },
  {
   "cell_type": "markdown",
   "metadata": {},
   "source": [
    "#3 using string3"
   ]
  },
  {
   "cell_type": "code",
   "execution_count": 67,
   "metadata": {},
   "outputs": [
    {
     "data": {
      "text/plain": [
       "{1: ['I', 'a', 'a', 'a', 'a', 'I'],\n",
       " 2: ['in',\n",
       "  'in',\n",
       "  'of',\n",
       "  'of',\n",
       "  'of',\n",
       "  'my',\n",
       "  'of',\n",
       "  'at',\n",
       "  'He',\n",
       "  'by',\n",
       "  'at',\n",
       "  'he',\n",
       "  'my',\n",
       "  'in',\n",
       "  'by',\n",
       "  'of',\n",
       "  'in',\n",
       "  'we',\n",
       "  'we',\n",
       "  'so',\n",
       "  'my',\n",
       "  'me'],\n",
       " 3: ['was',\n",
       "  'the',\n",
       "  'the',\n",
       "  'not',\n",
       "  'who',\n",
       "  'got',\n",
       "  'and',\n",
       "  'off',\n",
       "  'his',\n",
       "  'had',\n",
       "  'and',\n",
       "  'was',\n",
       "  'but',\n",
       "  'the',\n",
       "  'are',\n",
       "  'now',\n",
       "  'nay',\n",
       "  'our',\n",
       "  'and',\n",
       "  'our',\n",
       "  'and'],\n",
       " 4: ['born',\n",
       "  'Year',\n",
       "  '1632',\n",
       "  'City',\n",
       "  'York',\n",
       "  'good',\n",
       "  \"tho'\",\n",
       "  'that',\n",
       "  'Hull',\n",
       "  'good',\n",
       "  'York',\n",
       "  'from',\n",
       "  'were',\n",
       "  'very',\n",
       "  'good',\n",
       "  'that',\n",
       "  'from',\n",
       "  'whom',\n",
       "  'call',\n",
       "  'Name'],\n",
       " 5: ['being',\n",
       "  'first',\n",
       "  'Trade',\n",
       "  'lived',\n",
       "  'whose',\n",
       "  'named',\n",
       "  'usual',\n",
       "  'Words',\n",
       "  'write'],\n",
       " 6: ['Family',\n",
       "  'Father',\n",
       "  'Bremen',\n",
       "  'Estate',\n",
       "  'whence',\n",
       "  'Mother',\n",
       "  'Family',\n",
       "  'called',\n",
       "  'called',\n",
       "  'selves',\n",
       "  'Crusoe',\n",
       "  'always',\n",
       "  \"call'd\"],\n",
       " 7: ['Country', 'settled', 'leaving', 'married', 'Country', 'England'],\n",
       " 8: ['Robinson', 'Robinson'],\n",
       " 9: ['Foreigner', 'afterward', 'Relations'],\n",
       " 10: ['Kreutznaer', 'Corruption', 'Companions'],\n",
       " 11: ['Merchandise']}"
      ]
     },
     "execution_count": 67,
     "metadata": {},
     "output_type": "execute_result"
    }
   ],
   "source": [
    "make_dict(string3)"
   ]
  },
  {
   "cell_type": "markdown",
   "metadata": {},
   "source": [
    "#Exercise 4"
   ]
  },
  {
   "cell_type": "code",
   "execution_count": 68,
   "metadata": {
    "collapsed": true
   },
   "outputs": [],
   "source": [
    "#checks whether the dictionary produced in Exercise #3 is correct by directly comparing two lists of word lengths: \n",
    "#the list produced by any method in Exercise #2 and a list of all word lengths generated from the dictionary in Exercise #3. \n",
    "#the collections package is imported\n",
    "import collections\n",
    "def check_length(string):\n",
    "    #calling function from exercise 2c\n",
    "    stri1=exercise_2c(string)\n",
    "    #calling the make_dictionary function from exercise 3\n",
    "    stri2=make_dict(string)\n",
    "    #collections.Counter method is used to count the length of list \n",
    "    counter_exercise2=collections.Counter(stri1)\n",
    "    #the below line creates a new dictionary where key is the word length and value is the frequency of word with word length key\n",
    "    counter_exercise3={key: len( value) for key, value in stri2.items()}\n",
    "    # collections.OrdereDict is used to sort the dictionary\n",
    "    od = collections.OrderedDict(sorted(counter_exercise2.items()))\n",
    "    if od==counter_exercise3:\n",
    "        print(\"The dictionary is correct\")\n",
    "    else:\n",
    "        print(\"The dictionary is incorrect\")   "
   ]
  },
  {
   "cell_type": "markdown",
   "metadata": {},
   "source": [
    "#Exercise 4 using string1"
   ]
  },
  {
   "cell_type": "code",
   "execution_count": 69,
   "metadata": {},
   "outputs": [
    {
     "name": "stdout",
     "output_type": "stream",
     "text": [
      "The dictionary is correct\n"
     ]
    }
   ],
   "source": [
    "check_length(string1)"
   ]
  },
  {
   "cell_type": "markdown",
   "metadata": {},
   "source": [
    "#Exercise 4 using string2"
   ]
  },
  {
   "cell_type": "code",
   "execution_count": 70,
   "metadata": {},
   "outputs": [
    {
     "name": "stdout",
     "output_type": "stream",
     "text": [
      "The dictionary is correct\n"
     ]
    }
   ],
   "source": [
    "check_length(string2)"
   ]
  },
  {
   "cell_type": "markdown",
   "metadata": {},
   "source": [
    "#Exercise 4 using string3"
   ]
  },
  {
   "cell_type": "code",
   "execution_count": 71,
   "metadata": {},
   "outputs": [
    {
     "name": "stdout",
     "output_type": "stream",
     "text": [
      "The dictionary is correct\n"
     ]
    }
   ],
   "source": [
    "check_length(string3)"
   ]
  },
  {
   "cell_type": "code",
   "execution_count": null,
   "metadata": {
    "collapsed": true
   },
   "outputs": [],
   "source": []
  }
 ],
 "metadata": {
  "kernelspec": {
   "display_name": "Python 3",
   "language": "python",
   "name": "python3"
  },
  "language_info": {
   "codemirror_mode": {
    "name": "ipython",
    "version": 3
   },
   "file_extension": ".py",
   "mimetype": "text/x-python",
   "name": "python",
   "nbconvert_exporter": "python",
   "pygments_lexer": "ipython3",
   "version": "3.6.3"
  }
 },
 "nbformat": 4,
 "nbformat_minor": 2
}
