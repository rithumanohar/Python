{
 "cells": [
  {
   "cell_type": "markdown",
   "metadata": {},
   "source": [
    "# a"
   ]
  },
  {
   "cell_type": "code",
   "execution_count": 1,
   "metadata": {
    "collapsed": true
   },
   "outputs": [],
   "source": [
    "#the below code imports numpy and use it to generate random numbers for A,B,C\n",
    "import numpy as np\n",
    "A = 80 + 10 * np.random.randn(50)\n",
    "B = 80 + 10 * np.random.randn(50)\n",
    "C = 80 + 10 * np.random.randn(50)"
   ]
  },
  {
   "cell_type": "code",
   "execution_count": 2,
   "metadata": {
    "collapsed": true
   },
   "outputs": [],
   "source": [
    "#the below code is a function which substracts 10 from each of the grades until the grade is strictly less than 100\n",
    "def sub_over_100(array):\n",
    "    for i in range(len(array)):\n",
    "        if array[i] >= 100:\n",
    "            array[i]-=10\n",
    "    return array"
   ]
  },
  {
   "cell_type": "code",
   "execution_count": 3,
   "metadata": {},
   "outputs": [
    {
     "data": {
      "text/plain": [
       "array([  79.43539742,   83.05300633,   97.3208524 ,   86.1226142 ,\n",
       "         83.91971482,   87.00862809,   77.63536326,   84.68751006,\n",
       "         80.01648215,   85.49214673,   87.42451879,   76.18198287,\n",
       "         63.19752289,   85.09926862,   85.64005958,   71.59576491,\n",
       "         85.71970205,   69.24169579,   90.2876088 ,   68.45280308,\n",
       "         88.9687426 ,   83.16734014,   92.3161803 ,   74.37405843,\n",
       "         69.61255972,   83.59684793,   58.18695897,   77.64438066,\n",
       "         80.67649339,   76.86133076,   63.48330249,   70.23354861,\n",
       "         80.23787928,   93.05329826,   76.48418681,   96.79388604,\n",
       "         97.43929043,   71.33507414,   98.0428723 ,   98.12521843,\n",
       "         72.58320319,   67.57152982,   87.66978105,   76.85258306,\n",
       "         81.64693457,   71.8152376 ,   75.98129077,   91.01315222,\n",
       "         85.06670523,  100.77144933])"
      ]
     },
     "execution_count": 3,
     "metadata": {},
     "output_type": "execute_result"
    }
   ],
   "source": [
    "#the below code calls the function above for A to get the array of grades for section A\n",
    "sub_over_100(A)"
   ]
  },
  {
   "cell_type": "code",
   "execution_count": 4,
   "metadata": {},
   "outputs": [
    {
     "data": {
      "text/plain": [
       "array([ 90.44536553,  75.27753731,  76.22072332,  89.07158121,\n",
       "        94.67645374,  90.81910717,  80.90854821,  90.61000914,\n",
       "        87.67184993,  79.6072289 ,  86.77759229,  82.12646999,\n",
       "        73.48930678,  77.35471036,  80.86048073,  91.97096258,\n",
       "        81.6546219 ,  87.26782806,  88.8561267 ,  63.24023792,\n",
       "        74.59157166,  70.06037809,  74.06158778,  65.00012659,\n",
       "        82.67754664,  76.80199709,  93.17920662,  64.82712367,\n",
       "        72.23411456,  86.43913586,  72.62184731,  85.75030276,\n",
       "        55.85410984,  76.33546426,  70.56019965,  67.37451328,\n",
       "        80.29766203,  96.34508109,  86.37989574,  70.84369911,\n",
       "        82.69458661,  85.99030141,  74.61409675,  75.64936727,\n",
       "        93.83870681,  76.44756322,  70.82031999,  61.36675396,\n",
       "        67.77609061,  76.43824559])"
      ]
     },
     "execution_count": 4,
     "metadata": {},
     "output_type": "execute_result"
    }
   ],
   "source": [
    "#the below code calls the function above for B to get the array of grades for section B\n",
    "sub_over_100(B)"
   ]
  },
  {
   "cell_type": "code",
   "execution_count": 5,
   "metadata": {},
   "outputs": [
    {
     "data": {
      "text/plain": [
       "array([ 89.33816455,  76.26629827,  77.37968968,  89.83142074,\n",
       "        83.95465048,  87.65187401,  97.58454316,  84.93543435,\n",
       "        66.01876311,  69.87348275,  78.80228716,  78.88668838,\n",
       "        93.4123084 ,  85.95616876,  83.42350886,  77.22308229,\n",
       "        83.84989742,  73.89198251,  82.56621076,  97.69214141,\n",
       "        84.12168594,  84.51215344,  71.0513109 ,  90.86798269,\n",
       "        84.27145823,  69.24926574,  86.91184072,  73.61107107,\n",
       "        88.3601449 ,  91.88746986,  91.12555521,  84.55702781,\n",
       "        97.19878451,  94.02253259,  78.75210898,  74.61680351,\n",
       "        82.74276562,  88.68768114,  77.80546361,  88.47321765,\n",
       "        82.42382301,  73.00236354,  74.13021166,  84.63085415,\n",
       "        77.56603259,  77.89884838,  75.53683204,  93.25077707,\n",
       "        73.89312207,  71.9462618 ])"
      ]
     },
     "execution_count": 5,
     "metadata": {},
     "output_type": "execute_result"
    }
   ],
   "source": [
    "#the below code calls the function above for C to get the array of grades for section C\n",
    "sub_over_100(C)"
   ]
  },
  {
   "cell_type": "markdown",
   "metadata": {},
   "source": [
    "# b"
   ]
  },
  {
   "cell_type": "code",
   "execution_count": 6,
   "metadata": {},
   "outputs": [
    {
     "data": {
      "text/plain": [
       "array([  79.43539742,   83.05300633,   97.3208524 ,   86.1226142 ,\n",
       "         83.91971482,   87.00862809,   77.63536326,   84.68751006,\n",
       "         80.01648215,   85.49214673,   87.42451879,   76.18198287,\n",
       "         63.19752289,   85.09926862,   85.64005958,   71.59576491,\n",
       "         85.71970205,   69.24169579,   90.2876088 ,   68.45280308,\n",
       "         88.9687426 ,   83.16734014,   92.3161803 ,   74.37405843,\n",
       "         69.61255972,   83.59684793,   58.18695897,   77.64438066,\n",
       "         80.67649339,   76.86133076,   63.48330249,   70.23354861,\n",
       "         80.23787928,   93.05329826,   76.48418681,   96.79388604,\n",
       "         97.43929043,   71.33507414,   98.0428723 ,   98.12521843,\n",
       "         72.58320319,   67.57152982,   87.66978105,   76.85258306,\n",
       "         81.64693457,   71.8152376 ,   75.98129077,   91.01315222,\n",
       "         85.06670523,  100.77144933,   90.44536553,   75.27753731,\n",
       "         76.22072332,   89.07158121,   94.67645374,   90.81910717,\n",
       "         80.90854821,   90.61000914,   87.67184993,   79.6072289 ,\n",
       "         86.77759229,   82.12646999,   73.48930678,   77.35471036,\n",
       "         80.86048073,   91.97096258,   81.6546219 ,   87.26782806,\n",
       "         88.8561267 ,   63.24023792,   74.59157166,   70.06037809,\n",
       "         74.06158778,   65.00012659,   82.67754664,   76.80199709,\n",
       "         93.17920662,   64.82712367,   72.23411456,   86.43913586,\n",
       "         72.62184731,   85.75030276,   55.85410984,   76.33546426,\n",
       "         70.56019965,   67.37451328,   80.29766203,   96.34508109,\n",
       "         86.37989574,   70.84369911,   82.69458661,   85.99030141,\n",
       "         74.61409675,   75.64936727,   93.83870681,   76.44756322,\n",
       "         70.82031999,   61.36675396,   67.77609061,   76.43824559,\n",
       "         89.33816455,   76.26629827,   77.37968968,   89.83142074,\n",
       "         83.95465048,   87.65187401,   97.58454316,   84.93543435,\n",
       "         66.01876311,   69.87348275,   78.80228716,   78.88668838,\n",
       "         93.4123084 ,   85.95616876,   83.42350886,   77.22308229,\n",
       "         83.84989742,   73.89198251,   82.56621076,   97.69214141,\n",
       "         84.12168594,   84.51215344,   71.0513109 ,   90.86798269,\n",
       "         84.27145823,   69.24926574,   86.91184072,   73.61107107,\n",
       "         88.3601449 ,   91.88746986,   91.12555521,   84.55702781,\n",
       "         97.19878451,   94.02253259,   78.75210898,   74.61680351,\n",
       "         82.74276562,   88.68768114,   77.80546361,   88.47321765,\n",
       "         82.42382301,   73.00236354,   74.13021166,   84.63085415,\n",
       "         77.56603259,   77.89884838,   75.53683204,   93.25077707,\n",
       "         73.89312207,   71.9462618 ])"
      ]
     },
     "execution_count": 6,
     "metadata": {},
     "output_type": "execute_result"
    }
   ],
   "source": [
    "#Concatenates the grades into a single 1-D array \"Result\" and shows the result\n",
    "temp=np.concatenate((A,B),axis=0)\n",
    "Result=np.concatenate((temp,C),axis=0)\n",
    "Result"
   ]
  },
  {
   "cell_type": "markdown",
   "metadata": {},
   "source": [
    "# c"
   ]
  },
  {
   "cell_type": "code",
   "execution_count": 7,
   "metadata": {},
   "outputs": [
    {
     "name": "stdout",
     "output_type": "stream",
     "text": [
      "The mean is 81.0104022965\n",
      "The standard deviation is 9.24846374876\n"
     ]
    }
   ],
   "source": [
    "#Calculates the mean (m) and standard deviation (sd) of the single array and print the results.\n",
    "m=np.mean(Result)\n",
    "print(\"The mean is\",m)\n",
    "sd=np.std(Result)\n",
    "print(\"The standard deviation is\",sd)"
   ]
  },
  {
   "cell_type": "markdown",
   "metadata": {},
   "source": [
    "# d"
   ]
  },
  {
   "cell_type": "code",
   "execution_count": 8,
   "metadata": {},
   "outputs": [
    {
     "data": {
      "text/plain": [
       "array([-0.17029908,  0.22085874,  1.7635848 ,  0.55276336,  0.31457252,\n",
       "        0.64856456, -0.36492969,  0.3975912 , -0.10746868,  0.48459339,\n",
       "        0.69353318, -0.522078  , -1.92603657,  0.44211303,  0.50058663,\n",
       "       -1.0179677 ,  0.50919806, -1.27250393,  1.00310784, -1.3578038 ,\n",
       "        0.86050403,  0.2332212 ,  1.2224493 , -0.71756175, -1.23240388,\n",
       "        0.27966219, -2.46780914, -0.36395468, -0.03610426, -0.44862278,\n",
       "       -1.89513635, -1.16525879, -0.08352987,  1.30215096, -0.48940187,\n",
       "        1.706606  ,  1.77639104, -1.04615517,  1.84165397,  1.85055774,\n",
       "       -0.91119989, -1.45309241,  0.72005243, -0.44956864,  0.06882573,\n",
       "       -0.99423698, -0.54377804,  1.081558  ,  0.43859208,  2.13668427,\n",
       "        1.02016546, -0.61987214, -0.51788914,  0.87162356,  1.47765638,\n",
       "        1.06057667, -0.01101308,  1.03796772,  0.72027612, -0.15171962,\n",
       "        0.62358356,  0.12067601, -0.81322647, -0.39527559, -0.01621043,\n",
       "        1.18512226,  0.06965693,  0.67659083,  0.84832731, -1.92141796,\n",
       "       -0.6940429 , -1.18398304, -0.75134798, -1.73112813,  0.18026176,\n",
       "       -0.4550383 ,  1.31576494, -1.74983425, -0.94894547,  0.5869876 ,\n",
       "       -0.90702145,  0.51250679, -2.72005093, -0.50548266, -1.1299393 ,\n",
       "       -1.47439503, -0.0770658 ,  1.65807849,  0.5805822 , -1.09928562,\n",
       "        0.18210422,  0.5384569 , -0.69160735, -0.57966763,  1.3870741 ,\n",
       "       -0.49336184, -1.10181351, -2.12399041, -1.43097406, -0.49436932,\n",
       "        0.90044817, -0.5129613 , -0.39257467,  0.95378202,  0.31834997,\n",
       "        0.71811621,  1.79209665,  0.42439827, -1.62098696, -1.2041913 ,\n",
       "       -0.2387548 , -0.22962883,  1.34096932,  0.53476627,  0.26091972,\n",
       "       -0.40950801,  0.30702344, -0.76968673,  0.16822345,  1.80373082,\n",
       "        0.33641086,  0.37863057, -1.07683737,  1.06586139,  0.35260515,\n",
       "       -1.27168543,  0.63809932, -0.80006058,  0.79469875,  1.17609452,\n",
       "        1.09371169,  0.38348266,  1.75038608,  1.40695046, -0.24418037,\n",
       "       -0.69131468,  0.18731363,  0.83011396, -0.34653741,  0.80692486,\n",
       "        0.15282762, -0.86587773, -0.74392795,  0.39146522, -0.37242615,\n",
       "       -0.33644008, -0.59183562,  1.32350357, -0.76956351, -0.98006985])"
      ]
     },
     "execution_count": 8,
     "metadata": {},
     "output_type": "execute_result"
    }
   ],
   "source": [
    "#Normalizes the single array \"Result\" by subtracting the mean m from each grade and dividing by the standard deviation sd\n",
    "for i in range(len(Result)):\n",
    "    Result[i]-=m\n",
    "    Result[i]/=sd\n",
    "Result"
   ]
  },
  {
   "cell_type": "markdown",
   "metadata": {},
   "source": [
    "# e"
   ]
  },
  {
   "cell_type": "code",
   "execution_count": 9,
   "metadata": {},
   "outputs": [
    {
     "name": "stdout",
     "output_type": "stream",
     "text": [
      "\n",
      "\n",
      "The Report of number of Students who received each grade\n",
      "The number of students who received A are 27\n",
      "The number of students who received B are 49\n",
      "The number of students who received C are 49\n",
      "The number of students who received D are 22\n",
      "The number of students who received F are 3\n"
     ]
    }
   ],
   "source": [
    "#The below code implements the below mentioned grading scheme and prints the report\n",
    "#Grading Scheme\n",
    "#    grade<-2-->F\n",
    "#-2<=grade<-1-->D\n",
    "#-1<=grade<0-->C\n",
    "# 0<=grade<1-->B\n",
    "#   grade>=1-->A\n",
    "A=[]\n",
    "B=[]\n",
    "C=[]\n",
    "D=[]\n",
    "F=[]\n",
    "\n",
    "for i in range(len(Result)):\n",
    "    if Result[i] < -2:\n",
    "        F.append(Result[i])\n",
    "    elif Result[i] >= -2 and Result[i]<-1:\n",
    "        D.append(Result[i])\n",
    "    elif Result[i] >= -1 and Result[i]<0:\n",
    "        C.append(Result[i])\n",
    "    elif Result[i] >= 0 and Result[i]<1:\n",
    "        B.append(Result[i])\n",
    "    elif Result[i] >= 1:\n",
    "        A.append(Result[i])\n",
    "print(\"\\n\\nThe Report of number of Students who received each grade\")\n",
    "print(\"The number of students who received A are\",len(A))\n",
    "print(\"The number of students who received B are\",len(B))\n",
    "print(\"The number of students who received C are\",len(C))\n",
    "print(\"The number of students who received D are\",len(D))\n",
    "print(\"The number of students who received F are\",len(F))"
   ]
  },
  {
   "cell_type": "code",
   "execution_count": null,
   "metadata": {
    "collapsed": true
   },
   "outputs": [],
   "source": []
  }
 ],
 "metadata": {
  "kernelspec": {
   "display_name": "Python 3",
   "language": "python",
   "name": "python3"
  },
  "language_info": {
   "codemirror_mode": {
    "name": "ipython",
    "version": 3
   },
   "file_extension": ".py",
   "mimetype": "text/x-python",
   "name": "python",
   "nbconvert_exporter": "python",
   "pygments_lexer": "ipython3",
   "version": "3.6.3"
  }
 },
 "nbformat": 4,
 "nbformat_minor": 2
}
