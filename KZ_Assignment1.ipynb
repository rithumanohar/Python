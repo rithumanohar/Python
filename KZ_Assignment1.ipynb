{
 "cells": [
  {
   "cell_type": "code",
   "execution_count": 1,
   "metadata": {
    "collapsed": true
   },
   "outputs": [],
   "source": [
    "# loading the text file and separating them as features and labels\n",
    "import pandas as pd\n",
    "file_training = pd.read_csv(r'C:\\Users\\rithu\\Downloads\\training.txt',sep= '\\t', header= None)\n",
    "train_features=file_training.values[:,1]\n",
    "train_labels=file_training.values[:,0]\n",
    "#converting the train_Features array to list\n",
    "training_features_conv=list(train_features)"
   ]
  },
  {
   "cell_type": "code",
   "execution_count": 2,
   "metadata": {
    "collapsed": true
   },
   "outputs": [],
   "source": [
    "#extracting two features\n",
    "#CountVectorizer:learning the vocabulary dictionary and returning a Document-Term matrix. [n_samples, n_features].\n",
    "#TfidTransformer:avoids weightage of longer documents over short and reduces weightage of common words\n",
    "from sklearn.feature_extraction.text import CountVectorizer,TfidfTransformer\n",
    "count_vect = CountVectorizer()\n",
    "tfidf_transformer = TfidfTransformer()"
   ]
  },
  {
   "cell_type": "code",
   "execution_count": 4,
   "metadata": {},
   "outputs": [],
   "source": [
    "#MultinomialNB:Running Naive Bayes Machine Learning Algorithm\n",
    "#Pipeline: less code anddo multiple commands\n",
    "from sklearn.pipeline import Pipeline\n",
    "from sklearn.naive_bayes import MultinomialNB\n",
    "text_clf1 = Pipeline([('vect', CountVectorizer()),('tfidf', TfidfTransformer()),('clf', MultinomialNB())])\n",
    "#train the NB classifier on the training data\n",
    "text_clf1 = text_clf1.fit(training_features_conv,train_labels)"
   ]
  },
  {
   "cell_type": "code",
   "execution_count": 5,
   "metadata": {
    "collapsed": true
   },
   "outputs": [],
   "source": [
    "#GridSearchCV:Grid Search CV classifier classifier\n",
    "from sklearn.model_selection import GridSearchCV\n",
    "#declare parameters for the GridSearchCV\n",
    "#vect__ngram_range; use unigram and bigrams and choose the one which is optimal\n",
    "parameters = {'vect__ngram_range': [(1, 1), (1, 2)],'tfidf__use_idf': (True, False),'clf__alpha': (1e-2, 1e-3)}"
   ]
  },
  {
   "cell_type": "code",
   "execution_count": 6,
   "metadata": {
    "collapsed": true
   },
   "outputs": [],
   "source": [
    "#using the text_clf1 gained from NB classifier trained data\n",
    "gs_clf = GridSearchCV(text_clf1, parameters, n_jobs=-1)\n",
    "#train the GridSearchCV classifier on the training data\n",
    "gs_clf = gs_clf.fit(training_features_conv,train_labels)"
   ]
  },
  {
   "cell_type": "code",
   "execution_count": 7,
   "metadata": {
    "collapsed": true
   },
   "outputs": [],
   "source": [
    "#loading test data\n",
    "import pandas as pd\n",
    "import numpy as np\n",
    "file3 = pd.read_csv(r'C:\\Users\\rithu\\Downloads\\testing.txt',sep= '\\t', header= None)\n",
    "test_features=file3.values[:,1]\n",
    "test_labels=file3.values[:,0]\n",
    "testing_features_conv=list(test_features)"
   ]
  },
  {
   "cell_type": "code",
   "execution_count": 9,
   "metadata": {},
   "outputs": [
    {
     "data": {
      "text/plain": [
       "0.96756509821836456"
      ]
     },
     "execution_count": 9,
     "metadata": {},
     "output_type": "execute_result"
    }
   ],
   "source": [
    "#checking for performance measures\n",
    "predicted_gs_clf=gs_clf.predict(testing_features_conv)\n",
    "np.mean(predicted_gs_clf==test_labels)"
   ]
  },
  {
   "cell_type": "code",
   "execution_count": 10,
   "metadata": {
    "collapsed": true
   },
   "outputs": [],
   "source": [
    "#obtained an accuracy of 96.76% on test data"
   ]
  },
  {
   "cell_type": "code",
   "execution_count": null,
   "metadata": {
    "collapsed": true
   },
   "outputs": [],
   "source": []
  }
 ],
 "metadata": {
  "kernelspec": {
   "display_name": "Python 3",
   "language": "python",
   "name": "python3"
  },
  "language_info": {
   "codemirror_mode": {
    "name": "ipython",
    "version": 3
   },
   "file_extension": ".py",
   "mimetype": "text/x-python",
   "name": "python",
   "nbconvert_exporter": "python",
   "pygments_lexer": "ipython3",
   "version": "3.6.3"
  }
 },
 "nbformat": 4,
 "nbformat_minor": 2
}
